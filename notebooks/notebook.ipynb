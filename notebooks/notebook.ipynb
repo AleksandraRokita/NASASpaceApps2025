{
 "cells": [
  {
   "cell_type": "code",
   "execution_count": 6,
   "id": "b0b1e77d",
   "metadata": {},
   "outputs": [],
   "source": [
    "import os\n",
    "import numpy as np\n",
    "import pandas as pd\n",
    "\n",
    "from sklearn.preprocessing import LabelEncoder\n",
    "from sklearn.model_selection import cross_val_score, StratifiedKFold\n",
    "from sklearn.metrics import classification_report, confusion_matrix\n",
    "from sklearn.ensemble import RandomForestClassifier\n",
    "import joblib\n",
    "\n",
    "pd.set_option(\"display.max_columns\", 100)"
   ]
  },
  {
   "cell_type": "code",
   "execution_count": null,
   "id": "b3bbebd2",
   "metadata": {},
   "outputs": [
    {
     "data": {
      "text/plain": [
       "(   koi_steff  koi_slogg  koi_srad         ra        dec  koi_kepmag  \\\n",
       " 0     5655.0      4.482     0.804  288.96494  42.469391      14.858   \n",
       " 1     6424.0      4.186     1.489  285.06335  44.167885      13.623   \n",
       " 2     6049.0      4.353     1.176  292.71310  38.358212      14.818   \n",
       " 3     5334.0      4.585     0.796  290.20575  37.769138      17.628   \n",
       " 4     6273.0      4.442     1.044  288.02271  43.548210      15.378   \n",
       " \n",
       "    koi_period  koi_time0bk  koi_duration  koi_impact  koi_depth  \\\n",
       " 0    4.238856   135.201464        5.2235       1.031    68002.0   \n",
       " 1    1.187352   133.465454        4.9990       1.222    20703.0   \n",
       " 2   13.229820   134.375700        3.5660       0.435      157.8   \n",
       " 3   18.798622   138.028268        7.4782       0.524   380200.0   \n",
       " 4   17.794005   365.346660        4.0910       3.720      879.4   \n",
       " \n",
       "    koi_model_snr  koi_prad  koi_teq  koi_insol  \n",
       " 0          374.8     38.01   1044.0     280.82  \n",
       " 1          717.4     67.35   2251.0    6067.30  \n",
       " 2           10.0      1.50    856.0     126.84  \n",
       " 3          551.3     55.07    575.0      25.91  \n",
       " 4           27.7    312.48    762.0      79.54  ,\n",
       " 0    FALSE POSITIVE\n",
       " 1    FALSE POSITIVE\n",
       " 2         CANDIDATE\n",
       " 3    FALSE POSITIVE\n",
       " 4    FALSE POSITIVE\n",
       " Name: koi_disposition, dtype: object,\n",
       " (7360, 15),\n",
       " (1840, 15))"
      ]
     },
     "execution_count": 7,
     "metadata": {},
     "output_type": "execute_result"
    }
   ],
   "source": [
    "BASE_DIR = os.path.dirname(os.path.dirname(os.path.abspath(__file__))) if \"__file__\" in globals() else os.path.dirname(os.getcwd())\n",
    "PROC_DIR = os.path.join(BASE_DIR, \"data\", \"processed\")\n",
    "\n",
    "X_train = pd.read_csv(os.path.join(PROC_DIR, \"X_train.csv\"))\n",
    "X_test  = pd.read_csv(os.path.join(PROC_DIR, \"X_test.csv\"))\n",
    "y_train = pd.read_csv(os.path.join(PROC_DIR, \"y_train.csv\")).squeeze(\"columns\")\n",
    "y_test  = pd.read_csv(os.path.join(PROC_DIR, \"y_test.csv\")).squeeze(\"columns\")\n",
    "\n",
    "\n",
    "X_train.head(), y_train.head(), X_train.shape, X_test.shape\n",
    "\n",
    "\n"
   ]
  },
  {
   "cell_type": "code",
   "execution_count": 8,
   "id": "1898e503",
   "metadata": {},
   "outputs": [
    {
     "data": {
      "text/plain": [
       "0         CANDIDATE\n",
       "1         CONFIRMED\n",
       "2    FALSE POSITIVE\n",
       "dtype: object"
      ]
     },
     "execution_count": 8,
     "metadata": {},
     "output_type": "execute_result"
    }
   ],
   "source": [
    "le = LabelEncoder()\n",
    "y_train_enc = le.fit_transform(y_train)\n",
    "y_test_enc  = le.transform(y_test)\n",
    "\n",
    "# mapowanie klas (przyda się do odczytu wyniku)\n",
    "label_map = {i: c for i, c in enumerate(le.classes_)}\n",
    "pd.Series(label_map)\n"
   ]
  },
  {
   "cell_type": "code",
   "execution_count": 9,
   "id": "7208ee1c",
   "metadata": {},
   "outputs": [
    {
     "name": "stdout",
     "output_type": "stream",
     "text": [
      "                precision    recall  f1-score   support\n",
      "\n",
      "     CANDIDATE       0.57      0.60      0.58       375\n",
      "     CONFIRMED       0.83      0.84      0.84       549\n",
      "FALSE POSITIVE       0.84      0.82      0.83       916\n",
      "\n",
      "      accuracy                           0.78      1840\n",
      "     macro avg       0.75      0.75      0.75      1840\n",
      "  weighted avg       0.78      0.78      0.78      1840\n",
      "\n",
      "Macierz pomyłek:\n",
      " [[225  44 106]\n",
      " [ 52 461  36]\n",
      " [120  49 747]]\n"
     ]
    }
   ],
   "source": [
    "rf = RandomForestClassifier(\n",
    "    n_estimators=400,\n",
    "    max_depth=None,\n",
    "    min_samples_leaf=2,\n",
    "    n_jobs=-1,\n",
    "    class_weight=\"balanced\",  # na wypadek niezbalansowanych klas\n",
    "    random_state=42\n",
    ")\n",
    "\n",
    "rf.fit(X_train, y_train_enc)\n",
    "pred_enc = rf.predict(X_test)\n",
    "print(classification_report(y_test_enc, pred_enc, target_names=le.classes_))\n",
    "print(\"Macierz pomyłek:\\n\", confusion_matrix(y_test_enc, pred_enc))\n"
   ]
  },
  {
   "cell_type": "code",
   "execution_count": 10,
   "id": "ededf7e0",
   "metadata": {},
   "outputs": [
    {
     "name": "stdout",
     "output_type": "stream",
     "text": [
      "CV f1_macro: [0.751 0.747 0.752 0.751 0.765] → mean: 0.753\n"
     ]
    }
   ],
   "source": [
    "cv = StratifiedKFold(n_splits=5, shuffle=True, random_state=42)\n",
    "scores = cross_val_score(rf, X_train, y_train_enc, cv=cv, scoring=\"f1_macro\", n_jobs=-1)\n",
    "print(\"CV f1_macro:\", scores.round(3), \"→ mean:\", scores.mean().round(3))\n"
   ]
  },
  {
   "cell_type": "code",
   "execution_count": 11,
   "id": "4bc16050",
   "metadata": {},
   "outputs": [
    {
     "data": {
      "text/plain": [
       "('c:\\\\Users\\\\nruey\\\\Desktop\\\\hackaton\\\\data\\\\rf_koi_model.joblib',\n",
       " 'c:\\\\Users\\\\nruey\\\\Desktop\\\\hackaton\\\\data\\\\label_encoder.joblib')"
      ]
     },
     "execution_count": 11,
     "metadata": {},
     "output_type": "execute_result"
    }
   ],
   "source": [
    "MODEL_DIR = os.path.join(BASE_DIR, \"data\")\n",
    "MODEL_PATH = os.path.join(MODEL_DIR, \"rf_koi_model.joblib\")\n",
    "ENC_PATH   = os.path.join(MODEL_DIR, \"label_encoder.joblib\")\n",
    "\n",
    "joblib.dump(rf, MODEL_PATH)\n",
    "joblib.dump(le, ENC_PATH)\n",
    "MODEL_PATH, ENC_PATH\n"
   ]
  }
 ],
 "metadata": {
  "kernelspec": {
   "display_name": ".venv",
   "language": "python",
   "name": "python3"
  },
  "language_info": {
   "codemirror_mode": {
    "name": "ipython",
    "version": 3
   },
   "file_extension": ".py",
   "mimetype": "text/x-python",
   "name": "python",
   "nbconvert_exporter": "python",
   "pygments_lexer": "ipython3",
   "version": "3.11.9"
  }
 },
 "nbformat": 4,
 "nbformat_minor": 5
}
